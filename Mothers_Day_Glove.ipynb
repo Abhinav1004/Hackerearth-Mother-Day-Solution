{
 "cells": [
  {
   "cell_type": "markdown",
   "metadata": {},
   "source": [
    "# Importing the Libraries"
   ]
  },
  {
   "cell_type": "code",
   "execution_count": 1,
   "metadata": {},
   "outputs": [
    {
     "name": "stderr",
     "output_type": "stream",
     "text": [
      "Using TensorFlow backend.\n"
     ]
    }
   ],
   "source": [
    "import os\n",
    "import pandas as pd\n",
    "import numpy as np\n",
    "import shutil\n",
    "from keras.layers import Input,Dense,LSTM,Embedding,Dropout,GRU\n",
    "from keras.layers.wrappers import Bidirectional\n",
    "from keras.layers import Permute,TimeDistributed,Reshape,Activation,Dot\n",
    "from keras import Model\n",
    "from matplotlib import pyplot as plt\n",
    "from keras.utils.vis_utils import plot_model\n",
    "from keras.callbacks import ModelCheckpoint\n",
    "import pickle\n",
    "import string\n",
    "from nltk.tokenize import sent_tokenize,word_tokenize\n",
    "from nltk.corpus import stopwords\n",
    "import re\n",
    "import seaborn as sns\n",
    "from sklearn.metrics import confusion_matrix\n",
    "from sklearn.model_selection import train_test_split\n",
    "from sklearn.metrics import accuracy_score,precision_score,recall_score,f1_score\n",
    "\n",
    "from keras.preprocessing.text import Tokenizer\n",
    "from keras.preprocessing.sequence import pad_sequences\n",
    "from keras.utils import to_categorical\n"
   ]
  },
  {
   "cell_type": "code",
   "execution_count": 2,
   "metadata": {},
   "outputs": [],
   "source": [
    "DATA_DIR = os.path.join(os.getcwd(),\"dataset\",)\n",
    "MODEL_PATH = os.path.join(os.getcwd(),\"model\",)\n",
    "GLOVE_DIR = os.path.join(os.getcwd(),\"glove\")"
   ]
  },
  {
   "cell_type": "code",
   "execution_count": 3,
   "metadata": {},
   "outputs": [],
   "source": [
    "if not os.path.exists(DATA_DIR):\n",
    "    print(\"Data does not exists--->\")\n",
    "if not os.path.exists(MODEL_PATH):\n",
    "    os.makedirs(MODEL_PATH)\n",
    "else:\n",
    "    shutil.rmtree(MODEL_PATH)\n",
    "    os.makedirs(MODEL_PATH)\n",
    "if not os.path.exists(GLOVE_DIR):\n",
    "    os.makedirs(GLOVE_DIR)"
   ]
  },
  {
   "cell_type": "markdown",
   "metadata": {},
   "source": [
    "# Data Preparation"
   ]
  },
  {
   "cell_type": "code",
   "execution_count": 4,
   "metadata": {},
   "outputs": [],
   "source": [
    "data = pd.read_csv(os.path.join(DATA_DIR,\"train.csv\"))"
   ]
  },
  {
   "cell_type": "code",
   "execution_count": 5,
   "metadata": {},
   "outputs": [
    {
     "name": "stdout",
     "output_type": "stream",
     "text": [
      "Number of rows  3235\n",
      "Number of columns 6\n"
     ]
    }
   ],
   "source": [
    "print(\"Number of rows \",data.shape[0])\n",
    "print(\"Number of columns\",data.shape[1])"
   ]
  },
  {
   "cell_type": "code",
   "execution_count": 6,
   "metadata": {
    "scrolled": false
   },
   "outputs": [
    {
     "data": {
      "text/html": [
       "<div>\n",
       "<style scoped>\n",
       "    .dataframe tbody tr th:only-of-type {\n",
       "        vertical-align: middle;\n",
       "    }\n",
       "\n",
       "    .dataframe tbody tr th {\n",
       "        vertical-align: top;\n",
       "    }\n",
       "\n",
       "    .dataframe thead th {\n",
       "        text-align: right;\n",
       "    }\n",
       "</style>\n",
       "<table border=\"1\" class=\"dataframe\">\n",
       "  <thead>\n",
       "    <tr style=\"text-align: right;\">\n",
       "      <th></th>\n",
       "      <th>id</th>\n",
       "      <th>original_text</th>\n",
       "      <th>lang</th>\n",
       "      <th>retweet_count</th>\n",
       "      <th>original_author</th>\n",
       "      <th>sentiment_class</th>\n",
       "    </tr>\n",
       "  </thead>\n",
       "  <tbody>\n",
       "    <tr>\n",
       "      <th>0</th>\n",
       "      <td>1.245025e+18</td>\n",
       "      <td>Happy #MothersDay to all you amazing mothers o...</td>\n",
       "      <td>en</td>\n",
       "      <td>0</td>\n",
       "      <td>BeenXXPired</td>\n",
       "      <td>0</td>\n",
       "    </tr>\n",
       "    <tr>\n",
       "      <th>1</th>\n",
       "      <td>1.245759e+18</td>\n",
       "      <td>Happy Mothers Day Mum - I'm sorry I can't be t...</td>\n",
       "      <td>en</td>\n",
       "      <td>1</td>\n",
       "      <td>FestiveFeeling</td>\n",
       "      <td>0</td>\n",
       "    </tr>\n",
       "    <tr>\n",
       "      <th>2</th>\n",
       "      <td>1.246087e+18</td>\n",
       "      <td>Happy mothers day To all This doing a mothers ...</td>\n",
       "      <td>en</td>\n",
       "      <td>0</td>\n",
       "      <td>KrisAllenSak</td>\n",
       "      <td>-1</td>\n",
       "    </tr>\n",
       "    <tr>\n",
       "      <th>3</th>\n",
       "      <td>1.244803e+18</td>\n",
       "      <td>Happy mothers day to this beautiful woman...ro...</td>\n",
       "      <td>en</td>\n",
       "      <td>0</td>\n",
       "      <td>Queenuchee</td>\n",
       "      <td>0</td>\n",
       "    </tr>\n",
       "    <tr>\n",
       "      <th>4</th>\n",
       "      <td>1.244876e+18</td>\n",
       "      <td>Remembering the 3 most amazing ladies who made...</td>\n",
       "      <td>en</td>\n",
       "      <td>0</td>\n",
       "      <td>brittan17446794</td>\n",
       "      <td>-1</td>\n",
       "    </tr>\n",
       "  </tbody>\n",
       "</table>\n",
       "</div>"
      ],
      "text/plain": [
       "             id                                      original_text lang  \\\n",
       "0  1.245025e+18  Happy #MothersDay to all you amazing mothers o...   en   \n",
       "1  1.245759e+18  Happy Mothers Day Mum - I'm sorry I can't be t...   en   \n",
       "2  1.246087e+18  Happy mothers day To all This doing a mothers ...   en   \n",
       "3  1.244803e+18  Happy mothers day to this beautiful woman...ro...   en   \n",
       "4  1.244876e+18  Remembering the 3 most amazing ladies who made...   en   \n",
       "\n",
       "  retweet_count  original_author  sentiment_class  \n",
       "0             0      BeenXXPired                0  \n",
       "1             1   FestiveFeeling                0  \n",
       "2             0     KrisAllenSak               -1  \n",
       "3             0       Queenuchee                0  \n",
       "4             0  brittan17446794               -1  "
      ]
     },
     "execution_count": 6,
     "metadata": {},
     "output_type": "execute_result"
    }
   ],
   "source": [
    "data.head()"
   ]
  },
  {
   "cell_type": "markdown",
   "metadata": {},
   "source": [
    "## Preprocessing the text"
   ]
  },
  {
   "cell_type": "code",
   "execution_count": 7,
   "metadata": {},
   "outputs": [],
   "source": [
    "def preprocess_tweet(text):\n",
    "\n",
    "    # Check characters to see if they are in punctuation\n",
    "    nopunc = [char for char in text if char not in string.punctuation]\n",
    "    # Join the characters again to form the string.\n",
    "    nopunc = ''.join(nopunc)\n",
    "    # convert text to lower-case\n",
    "    nopunc = nopunc.lower()\n",
    "    # remove URLs\n",
    "    nopunc = re.sub('((www\\.[^\\s]+)|(https?://[^\\s]+)|(http?://[^\\s]+))', '', nopunc)\n",
    "    nopunc = re.sub(r'http\\S+', '', nopunc)\n",
    "    # remove usernames\n",
    "    nopunc = re.sub('@[^\\s]+', '', nopunc)\n",
    "    # remove the # in #hashtag\n",
    "    nopunc = re.sub(r'#([^\\s]+)', r'\\1', nopunc)\n",
    "    nopunc = re.sub(r'\\w*\\d\\w*', '', nopunc).strip()\n",
    "    # remove repeated characters\n",
    "    nopunc = word_tokenize(nopunc)\n",
    "    # remove stopwords from final word list\n",
    "    return \" \".join([str(word) for word in nopunc if word not in stopwords.words('english')])"
   ]
  },
  {
   "cell_type": "code",
   "execution_count": 8,
   "metadata": {},
   "outputs": [],
   "source": [
    "data['original_text'] = data['original_text'].apply(lambda x:preprocess_tweet(x))"
   ]
  },
  {
   "cell_type": "markdown",
   "metadata": {},
   "source": [
    "## Parameters for Glove word Embeddings"
   ]
  },
  {
   "cell_type": "code",
   "execution_count": 9,
   "metadata": {},
   "outputs": [],
   "source": [
    "MAX_SEQUENCE_LENGTH = 64\n",
    "MAX_FEATURES = 5000\n",
    "MAX_NB_WORDS = 24000\n",
    "EMBEDDING_DIM = 50"
   ]
  },
  {
   "cell_type": "markdown",
   "metadata": {},
   "source": [
    "## Setting up embedding matrix"
   ]
  },
  {
   "cell_type": "code",
   "execution_count": 10,
   "metadata": {},
   "outputs": [],
   "source": [
    "def setup_embedding_index():\n",
    "    embedding_index = dict()\n",
    "    f = open(os.path.join(GLOVE_DIR,\"glove.6B.50d.txt\"),encoding=\"utf-8\")\n",
    "    for line in f:\n",
    "        values = line.split(\" \")\n",
    "        word = values[0]\n",
    "        coefs = np.array(values[1:])\n",
    "        embedding_index[word] = coefs\n",
    "    f.close()\n",
    "    return embedding_index\n",
    "\n",
    "embeddings_index = setup_embedding_index()\n"
   ]
  },
  {
   "cell_type": "markdown",
   "metadata": {},
   "source": [
    "## Removing Unneccessary Columns"
   ]
  },
  {
   "cell_type": "code",
   "execution_count": 11,
   "metadata": {},
   "outputs": [],
   "source": [
    "data = data.drop(['lang','retweet_count','original_author'],axis=1)"
   ]
  },
  {
   "cell_type": "code",
   "execution_count": 12,
   "metadata": {
    "scrolled": true
   },
   "outputs": [
    {
     "data": {
      "text/html": [
       "<div>\n",
       "<style scoped>\n",
       "    .dataframe tbody tr th:only-of-type {\n",
       "        vertical-align: middle;\n",
       "    }\n",
       "\n",
       "    .dataframe tbody tr th {\n",
       "        vertical-align: top;\n",
       "    }\n",
       "\n",
       "    .dataframe thead th {\n",
       "        text-align: right;\n",
       "    }\n",
       "</style>\n",
       "<table border=\"1\" class=\"dataframe\">\n",
       "  <thead>\n",
       "    <tr style=\"text-align: right;\">\n",
       "      <th></th>\n",
       "      <th>id</th>\n",
       "      <th>original_text</th>\n",
       "      <th>sentiment_class</th>\n",
       "    </tr>\n",
       "  </thead>\n",
       "  <tbody>\n",
       "    <tr>\n",
       "      <th>0</th>\n",
       "      <td>1.245025e+18</td>\n",
       "      <td>happy mothersday amazing mothers know hard abl...</td>\n",
       "      <td>0</td>\n",
       "    </tr>\n",
       "    <tr>\n",
       "      <th>1</th>\n",
       "      <td>1.245759e+18</td>\n",
       "      <td>happy mothers day mum im sorry cant bring moth...</td>\n",
       "      <td>0</td>\n",
       "    </tr>\n",
       "    <tr>\n",
       "      <th>2</th>\n",
       "      <td>1.246087e+18</td>\n",
       "      <td>happy mothers day mothers days work today quie...</td>\n",
       "      <td>-1</td>\n",
       "    </tr>\n",
       "    <tr>\n",
       "      <th>3</th>\n",
       "      <td>1.244803e+18</td>\n",
       "      <td>happy mothers day beautiful womanroyalty sooth...</td>\n",
       "      <td>0</td>\n",
       "    </tr>\n",
       "    <tr>\n",
       "      <th>4</th>\n",
       "      <td>1.244876e+18</td>\n",
       "      <td>remembering amazing ladies made late grandmoth...</td>\n",
       "      <td>-1</td>\n",
       "    </tr>\n",
       "  </tbody>\n",
       "</table>\n",
       "</div>"
      ],
      "text/plain": [
       "             id                                      original_text  \\\n",
       "0  1.245025e+18  happy mothersday amazing mothers know hard abl...   \n",
       "1  1.245759e+18  happy mothers day mum im sorry cant bring moth...   \n",
       "2  1.246087e+18  happy mothers day mothers days work today quie...   \n",
       "3  1.244803e+18  happy mothers day beautiful womanroyalty sooth...   \n",
       "4  1.244876e+18  remembering amazing ladies made late grandmoth...   \n",
       "\n",
       "   sentiment_class  \n",
       "0                0  \n",
       "1                0  \n",
       "2               -1  \n",
       "3                0  \n",
       "4               -1  "
      ]
     },
     "execution_count": 12,
     "metadata": {},
     "output_type": "execute_result"
    }
   ],
   "source": [
    "data.head()"
   ]
  },
  {
   "cell_type": "code",
   "execution_count": 13,
   "metadata": {
    "scrolled": true
   },
   "outputs": [],
   "source": [
    "data.columns = ['id','text','sentiment_class']"
   ]
  },
  {
   "cell_type": "code",
   "execution_count": 14,
   "metadata": {},
   "outputs": [
    {
     "data": {
      "text/html": [
       "<div>\n",
       "<style scoped>\n",
       "    .dataframe tbody tr th:only-of-type {\n",
       "        vertical-align: middle;\n",
       "    }\n",
       "\n",
       "    .dataframe tbody tr th {\n",
       "        vertical-align: top;\n",
       "    }\n",
       "\n",
       "    .dataframe thead th {\n",
       "        text-align: right;\n",
       "    }\n",
       "</style>\n",
       "<table border=\"1\" class=\"dataframe\">\n",
       "  <thead>\n",
       "    <tr style=\"text-align: right;\">\n",
       "      <th></th>\n",
       "      <th>id</th>\n",
       "      <th>text</th>\n",
       "      <th>sentiment_class</th>\n",
       "    </tr>\n",
       "  </thead>\n",
       "  <tbody>\n",
       "    <tr>\n",
       "      <th>0</th>\n",
       "      <td>1.245025e+18</td>\n",
       "      <td>happy mothersday amazing mothers know hard abl...</td>\n",
       "      <td>0</td>\n",
       "    </tr>\n",
       "    <tr>\n",
       "      <th>1</th>\n",
       "      <td>1.245759e+18</td>\n",
       "      <td>happy mothers day mum im sorry cant bring moth...</td>\n",
       "      <td>0</td>\n",
       "    </tr>\n",
       "    <tr>\n",
       "      <th>2</th>\n",
       "      <td>1.246087e+18</td>\n",
       "      <td>happy mothers day mothers days work today quie...</td>\n",
       "      <td>-1</td>\n",
       "    </tr>\n",
       "    <tr>\n",
       "      <th>3</th>\n",
       "      <td>1.244803e+18</td>\n",
       "      <td>happy mothers day beautiful womanroyalty sooth...</td>\n",
       "      <td>0</td>\n",
       "    </tr>\n",
       "    <tr>\n",
       "      <th>4</th>\n",
       "      <td>1.244876e+18</td>\n",
       "      <td>remembering amazing ladies made late grandmoth...</td>\n",
       "      <td>-1</td>\n",
       "    </tr>\n",
       "  </tbody>\n",
       "</table>\n",
       "</div>"
      ],
      "text/plain": [
       "             id                                               text  \\\n",
       "0  1.245025e+18  happy mothersday amazing mothers know hard abl...   \n",
       "1  1.245759e+18  happy mothers day mum im sorry cant bring moth...   \n",
       "2  1.246087e+18  happy mothers day mothers days work today quie...   \n",
       "3  1.244803e+18  happy mothers day beautiful womanroyalty sooth...   \n",
       "4  1.244876e+18  remembering amazing ladies made late grandmoth...   \n",
       "\n",
       "   sentiment_class  \n",
       "0                0  \n",
       "1                0  \n",
       "2               -1  \n",
       "3                0  \n",
       "4               -1  "
      ]
     },
     "execution_count": 14,
     "metadata": {},
     "output_type": "execute_result"
    }
   ],
   "source": [
    "data.head()"
   ]
  },
  {
   "cell_type": "code",
   "execution_count": 15,
   "metadata": {},
   "outputs": [],
   "source": [
    "tokenizer = Tokenizer(num_words=75000,split=' ') #num words informd the \n",
    "tokenizer.fit_on_texts(data.loc[:,'text'].values)\n",
    "vocab_length = len(tokenizer.word_index)+1\n",
    "NUM_WORDS = vocab_length"
   ]
  },
  {
   "cell_type": "code",
   "execution_count": 16,
   "metadata": {},
   "outputs": [],
   "source": [
    "with open('tokenizer.pkl', 'wb') as handle:\n",
    "    pickle.dump(tokenizer, handle, protocol=pickle.HIGHEST_PROTOCOL)"
   ]
  },
  {
   "cell_type": "code",
   "execution_count": 17,
   "metadata": {},
   "outputs": [
    {
     "name": "stdout",
     "output_type": "stream",
     "text": [
      "{0: 0, 1: 1, -1: 2}\n"
     ]
    }
   ],
   "source": [
    "labels_list = list(set(data['sentiment_class'].values.tolist()))\n",
    "labels_id = {label_name:id for id,label_name in enumerate(labels_list)}\n",
    "print(labels_id)\n",
    "data['sentiment_class'].replace(labels_id,inplace=True)\n",
    "labels = to_categorical(data['sentiment_class'])"
   ]
  },
  {
   "cell_type": "code",
   "execution_count": 18,
   "metadata": {},
   "outputs": [],
   "source": [
    "count_non_zero=0\n",
    "embedding_matrix = np.zeros((NUM_WORDS, EMBEDDING_DIM))\n",
    "for word,i in tokenizer.word_index.items():\n",
    "    if i>vocab_length-1:\n",
    "        break\n",
    "    embedding_vector = embeddings_index.get(word)\n",
    "    if embedding_vector is not None:\n",
    "        # words not found in embedding index will be all-zeros.\n",
    "        count_non_zero+=1\n",
    "        embedding_matrix[i] = embedding_vector"
   ]
  },
  {
   "cell_type": "code",
   "execution_count": 19,
   "metadata": {},
   "outputs": [],
   "source": [
    "encoded_docs= tokenizer.texts_to_sequences(data.loc[:,'text'])\n",
    "padded_docs_text = pad_sequences(encoded_docs, maxlen=MAX_SEQUENCE_LENGTH, padding='post')\n",
    "# print(vocab_length)"
   ]
  },
  {
   "cell_type": "markdown",
   "metadata": {},
   "source": [
    "## Model Architecture"
   ]
  },
  {
   "cell_type": "code",
   "execution_count": 20,
   "metadata": {},
   "outputs": [],
   "source": [
    "input_text = Input(shape=[MAX_SEQUENCE_LENGTH],name='input_text')\n",
    "embedding = Embedding(vocab_length,EMBEDDING_DIM,input_length=MAX_SEQUENCE_LENGTH)(input_text)\n",
    "drop_em = Dropout(0.2)(embedding)\n",
    "lstm_outs = Bidirectional(LSTM(EMBEDDING_DIM,return_sequences=True))(drop_em)\n",
    "drop_lstm = Dropout(0.2)(lstm_outs)\n",
    "\n",
    "# Attention Mechanism - Generate attention vectors\n",
    "input_dim = int(drop_lstm.shape[2])\n",
    "permuted_inputs = Permute((2, 1))(lstm_outs)\n",
    "attention_vector = TimeDistributed(Dense(1))(drop_lstm)\n",
    "attention_vector = Reshape((MAX_SEQUENCE_LENGTH,))(attention_vector)\n",
    "attention_vector = Activation('softmax', name='attention_vec')(attention_vector)\n",
    "attention_output = Dot(axes=1)([drop_lstm, attention_vector])\n",
    "\n",
    "\n",
    "# Last layer: fully connected with softmax activation\n",
    "dense = Dense(EMBEDDING_DIM, activation='relu')(attention_output)\n",
    "output = Dense(3, activation='softmax')(dense)\n",
    "\n",
    "# Finally building model\n",
    "model = Model(inputs=[input_text], outputs=output)\n",
    "model.compile(loss=\"categorical_crossentropy\", metrics=[\"accuracy\"], optimizer='adam')"
   ]
  },
  {
   "cell_type": "code",
   "execution_count": 21,
   "metadata": {},
   "outputs": [
    {
     "name": "stdout",
     "output_type": "stream",
     "text": [
      "Model: \"model_1\"\n",
      "__________________________________________________________________________________________________\n",
      "Layer (type)                    Output Shape         Param #     Connected to                     \n",
      "==================================================================================================\n",
      "input_text (InputLayer)         (None, 64)           0                                            \n",
      "__________________________________________________________________________________________________\n",
      "embedding_1 (Embedding)         (None, 64, 50)       571550      input_text[0][0]                 \n",
      "__________________________________________________________________________________________________\n",
      "dropout_1 (Dropout)             (None, 64, 50)       0           embedding_1[0][0]                \n",
      "__________________________________________________________________________________________________\n",
      "bidirectional_1 (Bidirectional) (None, 64, 100)      40400       dropout_1[0][0]                  \n",
      "__________________________________________________________________________________________________\n",
      "dropout_2 (Dropout)             (None, 64, 100)      0           bidirectional_1[0][0]            \n",
      "__________________________________________________________________________________________________\n",
      "time_distributed_1 (TimeDistrib (None, 64, 1)        101         dropout_2[0][0]                  \n",
      "__________________________________________________________________________________________________\n",
      "reshape_1 (Reshape)             (None, 64)           0           time_distributed_1[0][0]         \n",
      "__________________________________________________________________________________________________\n",
      "attention_vec (Activation)      (None, 64)           0           reshape_1[0][0]                  \n",
      "__________________________________________________________________________________________________\n",
      "dot_1 (Dot)                     (None, 100)          0           dropout_2[0][0]                  \n",
      "                                                                 attention_vec[0][0]              \n",
      "__________________________________________________________________________________________________\n",
      "dense_2 (Dense)                 (None, 50)           5050        dot_1[0][0]                      \n",
      "__________________________________________________________________________________________________\n",
      "dense_3 (Dense)                 (None, 3)            153         dense_2[0][0]                    \n",
      "==================================================================================================\n",
      "Total params: 617,254\n",
      "Trainable params: 617,254\n",
      "Non-trainable params: 0\n",
      "__________________________________________________________________________________________________\n"
     ]
    }
   ],
   "source": [
    "model.summary()"
   ]
  },
  {
   "cell_type": "code",
   "execution_count": 22,
   "metadata": {
    "scrolled": true
   },
   "outputs": [
    {
     "data": {
      "image/png": "[encoded data removed]",
      "text/plain": [
       "<IPython.core.display.Image object>"
      ]
     },
     "execution_count": 22,
     "metadata": {},
     "output_type": "execute_result"
    }
   ],
   "source": [
    "\n",
    "plot_model(model,to_file=\"model_attention.png\",show_shapes=True,show_layer_names=True)"
   ]
  },
  {
   "cell_type": "code",
   "execution_count": 23,
   "metadata": {},
   "outputs": [],
   "source": [
    "X = padded_docs_text\n",
    "Y = labels"
   ]
  },
  {
   "cell_type": "code",
   "execution_count": 24,
   "metadata": {},
   "outputs": [],
   "source": [
    "filepath = os.path.join(MODEL_PATH,\"emotions-{epoch:02d}-{val_accuracy:.2f}.hdf5\")\n",
    "checkpoint = ModelCheckpoint(filepath, monitor='val_accuracy', verbose=1, save_best_only=True, mode='max',period=1)\n",
    "callbacks_list = [checkpoint]"
   ]
  },
  {
   "cell_type": "markdown",
   "metadata": {},
   "source": [
    "## Model Training"
   ]
  },
  {
   "cell_type": "code",
   "execution_count": 25,
   "metadata": {},
   "outputs": [
    {
     "name": "stderr",
     "output_type": "stream",
     "text": [
      "/home/abhinav/anaconda3/lib/python3.7/site-packages/tensorflow_core/python/framework/indexed_slices.py:424: UserWarning: Converting sparse IndexedSlices to a dense Tensor of unknown shape. This may consume a large amount of memory.\n",
      "  \"Converting sparse IndexedSlices to a dense Tensor of unknown shape. \"\n"
     ]
    },
    {
     "name": "stdout",
     "output_type": "stream",
     "text": [
      "Train on 2911 samples, validate on 324 samples\n",
      "Epoch 1/25\n",
      "2911/2911 [==============================] - 5s 2ms/step - loss: 1.0400 - accuracy: 0.5239 - val_loss: 1.0091 - val_accuracy: 0.5432\n",
      "\n",
      "Epoch 00001: val_accuracy improved from -inf to 0.54321, saving model to /home/abhinav/mothers_day_tweets/model/emotions-01-0.54.hdf5\n",
      "Epoch 2/25\n",
      "2911/2911 [==============================] - 4s 1ms/step - loss: 1.0208 - accuracy: 0.5239 - val_loss: 1.0068 - val_accuracy: 0.5432\n",
      "\n",
      "Epoch 00002: val_accuracy did not improve from 0.54321\n",
      "Epoch 3/25\n",
      "2911/2911 [==============================] - 4s 1ms/step - loss: 1.0154 - accuracy: 0.5239 - val_loss: 1.0095 - val_accuracy: 0.5432\n",
      "\n",
      "Epoch 00003: val_accuracy did not improve from 0.54321\n",
      "Epoch 4/25\n",
      "2911/2911 [==============================] - 5s 2ms/step - loss: 0.8946 - accuracy: 0.5696 - val_loss: 1.1928 - val_accuracy: 0.4290\n",
      "\n",
      "Epoch 00004: val_accuracy did not improve from 0.54321\n",
      "Epoch 5/25\n",
      "2911/2911 [==============================] - 5s 2ms/step - loss: 0.6089 - accuracy: 0.7004 - val_loss: 1.2631 - val_accuracy: 0.4321\n",
      "\n",
      "Epoch 00005: val_accuracy did not improve from 0.54321\n",
      "Epoch 6/25\n",
      "2911/2911 [==============================] - 5s 2ms/step - loss: 0.4885 - accuracy: 0.7400 - val_loss: 1.6189 - val_accuracy: 0.3272\n",
      "\n",
      "Epoch 00006: val_accuracy did not improve from 0.54321\n",
      "Epoch 7/25\n",
      "2911/2911 [==============================] - 4s 1ms/step - loss: 0.4146 - accuracy: 0.7856 - val_loss: 2.0522 - val_accuracy: 0.3889\n",
      "\n",
      "Epoch 00007: val_accuracy did not improve from 0.54321\n",
      "Epoch 8/25\n",
      "2911/2911 [==============================] - 4s 1ms/step - loss: 0.3099 - accuracy: 0.8825 - val_loss: 2.0498 - val_accuracy: 0.3735\n",
      "\n",
      "Epoch 00008: val_accuracy did not improve from 0.54321\n",
      "Epoch 9/25\n",
      "2911/2911 [==============================] - 4s 1ms/step - loss: 0.1942 - accuracy: 0.9368 - val_loss: 2.6732 - val_accuracy: 0.4043\n",
      "\n",
      "Epoch 00009: val_accuracy did not improve from 0.54321\n",
      "Epoch 10/25\n",
      "2911/2911 [==============================] - 4s 1ms/step - loss: 0.1251 - accuracy: 0.9581 - val_loss: 2.5227 - val_accuracy: 0.3580\n",
      "\n",
      "Epoch 00010: val_accuracy did not improve from 0.54321\n",
      "Epoch 11/25\n",
      "2911/2911 [==============================] - 4s 1ms/step - loss: 0.1062 - accuracy: 0.9684 - val_loss: 2.8001 - val_accuracy: 0.3981\n",
      "\n",
      "Epoch 00011: val_accuracy did not improve from 0.54321\n",
      "Epoch 12/25\n",
      "2911/2911 [==============================] - 4s 1ms/step - loss: 0.0847 - accuracy: 0.9756 - val_loss: 2.4414 - val_accuracy: 0.4105\n",
      "\n",
      "Epoch 00012: val_accuracy did not improve from 0.54321\n",
      "Epoch 13/25\n",
      "2911/2911 [==============================] - 4s 1ms/step - loss: 0.0649 - accuracy: 0.9797 - val_loss: 3.2948 - val_accuracy: 0.4136\n",
      "\n",
      "Epoch 00013: val_accuracy did not improve from 0.54321\n",
      "Epoch 14/25\n",
      "2911/2911 [==============================] - 4s 1ms/step - loss: 0.0814 - accuracy: 0.9746 - val_loss: 2.5549 - val_accuracy: 0.3611\n",
      "\n",
      "Epoch 00014: val_accuracy did not improve from 0.54321\n",
      "Epoch 15/25\n",
      "2911/2911 [==============================] - 4s 1ms/step - loss: 0.0603 - accuracy: 0.9825 - val_loss: 2.6250 - val_accuracy: 0.3765\n",
      "\n",
      "Epoch 00015: val_accuracy did not improve from 0.54321\n",
      "Epoch 16/25\n",
      "2911/2911 [==============================] - 4s 1ms/step - loss: 0.0401 - accuracy: 0.9883 - val_loss: 3.1321 - val_accuracy: 0.3580\n",
      "\n",
      "Epoch 00016: val_accuracy did not improve from 0.54321\n",
      "Epoch 17/25\n",
      "2911/2911 [==============================] - 4s 1ms/step - loss: 0.0447 - accuracy: 0.9883 - val_loss: 2.9376 - val_accuracy: 0.3704\n",
      "\n",
      "Epoch 00017: val_accuracy did not improve from 0.54321\n",
      "Epoch 18/25\n",
      "2911/2911 [==============================] - 4s 1ms/step - loss: 0.0324 - accuracy: 0.9918 - val_loss: 2.8242 - val_accuracy: 0.3796\n",
      "\n",
      "Epoch 00018: val_accuracy did not improve from 0.54321\n",
      "Epoch 19/25\n",
      "2911/2911 [==============================] - 4s 1ms/step - loss: 0.0343 - accuracy: 0.9900 - val_loss: 2.7451 - val_accuracy: 0.3735\n",
      "\n",
      "Epoch 00019: val_accuracy did not improve from 0.54321\n",
      "Epoch 20/25\n",
      "2911/2911 [==============================] - 4s 1ms/step - loss: 0.0315 - accuracy: 0.9907 - val_loss: 3.0308 - val_accuracy: 0.3889\n",
      "\n",
      "Epoch 00020: val_accuracy did not improve from 0.54321\n",
      "Epoch 21/25\n",
      "2911/2911 [==============================] - 4s 1ms/step - loss: 0.0218 - accuracy: 0.9935 - val_loss: 3.1764 - val_accuracy: 0.3704\n",
      "\n",
      "Epoch 00021: val_accuracy did not improve from 0.54321\n",
      "Epoch 22/25\n",
      "2911/2911 [==============================] - 4s 1ms/step - loss: 0.0235 - accuracy: 0.9928 - val_loss: 3.0873 - val_accuracy: 0.3920\n",
      "\n",
      "Epoch 00022: val_accuracy did not improve from 0.54321\n",
      "Epoch 23/25\n",
      "2911/2911 [==============================] - 4s 1ms/step - loss: 0.0179 - accuracy: 0.9948 - val_loss: 3.3245 - val_accuracy: 0.3704\n",
      "\n",
      "Epoch 00023: val_accuracy did not improve from 0.54321\n",
      "Epoch 24/25\n",
      "2911/2911 [==============================] - 4s 1ms/step - loss: 0.0188 - accuracy: 0.9935 - val_loss: 3.3922 - val_accuracy: 0.3920\n",
      "\n",
      "Epoch 00024: val_accuracy did not improve from 0.54321\n",
      "Epoch 25/25\n",
      "2911/2911 [==============================] - 4s 1ms/step - loss: 0.0135 - accuracy: 0.9962 - val_loss: 3.6819 - val_accuracy: 0.3765\n",
      "\n",
      "Epoch 00025: val_accuracy did not improve from 0.54321\n"
     ]
    }
   ],
   "source": [
    "model_history = model.fit(X, Y, epochs=25, batch_size=64, validation_split=0.1, shuffle=True,callbacks=callbacks_list)"
   ]
  },
  {
   "cell_type": "code",
   "execution_count": 26,
   "metadata": {
    "scrolled": true
   },
   "outputs": [
    {
     "data": {
      "image/png": "[encoded data removed]",
      "text/plain": [
       "<Figure size 864x864 with 2 Axes>"
      ]
     },
     "metadata": {
      "needs_background": "light"
     },
     "output_type": "display_data"
    }
   ],
   "source": [
    "fig, (ax1, ax2) = plt.subplots(2, 1, figsize=(12, 12))\n",
    "ax1.plot(model_history.history['loss'], color='b', label=\"Training loss\")\n",
    "ax1.plot(model_history.history['val_loss'], color='r', label=\"validation loss\")\n",
    "ax1.set_xticks(np.arange(1, 50, 1))\n",
    "ax1.set_yticks(np.arange(0, 1, 0.1))\n",
    "\n",
    "ax2.plot(model_history.history['accuracy'], color='b', label=\"Training accuracy\")\n",
    "ax2.plot(model_history.history['val_accuracy'], color='r',label=\"Validation accuracy\")\n",
    "ax2.set_xticks(np.arange(1, 25, 1))\n",
    "\n",
    "legend = plt.legend(loc='best', shadow=True)\n",
    "plt.tight_layout()\n",
    "plt.show()"
   ]
  },
  {
   "cell_type": "markdown",
   "metadata": {},
   "source": [
    "# Model Analysis"
   ]
  },
  {
   "cell_type": "markdown",
   "metadata": {},
   "source": [
    "## Confusion matrix"
   ]
  },
  {
   "cell_type": "code",
   "execution_count": 27,
   "metadata": {},
   "outputs": [],
   "source": [
    "xtrain,xtest,ytrain,ytest = train_test_split(X,Y)"
   ]
  },
  {
   "cell_type": "code",
   "execution_count": 28,
   "metadata": {},
   "outputs": [],
   "source": [
    "\n",
    "def print_confusion_matrix(confusion_matrix, class_names, figsize = (10,7), fontsize=14):\n",
    "    df_cm = pd.DataFrame(\n",
    "        confusion_matrix, index=class_names, columns=class_names, \n",
    "    )\n",
    "    fig = plt.figure(figsize=figsize)\n",
    "    try:\n",
    "        heatmap = sns.heatmap(df_cm, annot=True, fmt=\"d\")\n",
    "    except ValueError:\n",
    "        raise ValueError(\"Confusion matrix values must be integers.\")\n",
    "    heatmap.yaxis.set_ticklabels(heatmap.yaxis.get_ticklabels(), rotation=0, ha='right', fontsize=fontsize)\n",
    "    heatmap.xaxis.set_ticklabels(heatmap.xaxis.get_ticklabels(), rotation=45, ha='right', fontsize=fontsize)\n",
    "    plt.ylabel('True label')\n",
    "    plt.xlabel('Predicted label')\n",
    "    fig.savefig(\"confusion_matrix.png\")\n",
    "    return fig\n"
   ]
  },
  {
   "cell_type": "code",
   "execution_count": 29,
   "metadata": {},
   "outputs": [],
   "source": [
    "def print_heatmap(n_labels, n_predictions, class_names):\n",
    "    labels = n_labels #sess.run(tf.argmax(n_labels, 1))\n",
    "    predictions = n_predictions #sess.run(tf.argmax(n_predictions, 1))\n",
    "\n",
    "#     confusion_matrix = sess.run(tf.contrib.metrics.confusion_matrix(labels, predictions))\n",
    "    matrix = confusion_matrix(labels.argmax(axis=1),predictions.argmax(axis=1))\n",
    "    row_sum = np.sum(matrix, axis = 1)\n",
    "    w, h = matrix.shape\n",
    "\n",
    "    c_m = np.zeros((w, h))\n",
    "\n",
    "    for i in range(h):\n",
    "        c_m[i] = matrix[i] * 100 / row_sum[i]\n",
    "\n",
    "    c = c_m.astype(dtype = np.uint8)\n",
    "\n",
    "    \n",
    "    heatmap = print_confusion_matrix(c, class_names, figsize=(18,10), fontsize=20)\n"
   ]
  },
  {
   "cell_type": "code",
   "execution_count": 30,
   "metadata": {},
   "outputs": [
    {
     "name": "stdout",
     "output_type": "stream",
     "text": [
      "809/809 [==============================] - 0s 541us/step\n"
     ]
    }
   ],
   "source": [
    "class_names = list()\n",
    "for name,idx in labels_id.items():\n",
    "    class_names.append(name)\n",
    "# print(class_names)\n",
    "ypred = model.predict(xtest,verbose=1)"
   ]
  },
  {
   "cell_type": "code",
   "execution_count": 31,
   "metadata": {},
   "outputs": [
    {
     "data": {
      "image/png": "[encoded data removed]",
      "text/plain": [
       "<Figure size 1296x720 with 2 Axes>"
      ]
     },
     "metadata": {
      "needs_background": "light"
     },
     "output_type": "display_data"
    }
   ],
   "source": [
    "print_heatmap(ytest,ypred,class_names)"
   ]
  },
  {
   "cell_type": "markdown",
   "metadata": {},
   "source": [
    "## Precision Recall F1 Score"
   ]
  },
  {
   "cell_type": "code",
   "execution_count": 32,
   "metadata": {},
   "outputs": [],
   "source": [
    "ypred_class = np.argmax(ypred,axis=1)\n",
    "# print(ypred_class[:10])\n",
    "ytest = np.argmax(ytest,axis=1)\n",
    "# print(ypred_class.shape)\n",
    "# print(ypred.shape)\n",
    "# print(ytest.shape)"
   ]
  },
  {
   "cell_type": "code",
   "execution_count": 33,
   "metadata": {
    "scrolled": false
   },
   "outputs": [
    {
     "name": "stdout",
     "output_type": "stream",
     "text": [
      "Accuracy: 0.939431\n",
      "Precision: 0.939726\n",
      "Recall: 0.939431\n",
      "F1 score: 0.939524\n"
     ]
    }
   ],
   "source": [
    "accuracy = accuracy_score(ytest,ypred_class)\n",
    "print('Accuracy: %f' % accuracy)\n",
    "# precision tp / (tp + fp)\n",
    "precision = precision_score(ytest, ypred_class,average='weighted')\n",
    "print('Precision: %f' % precision)\n",
    "# recall: tp / (tp + fn)\n",
    "recall = recall_score(ytest,ypred_class,average='weighted')\n",
    "print('Recall: %f' % recall)\n",
    "# f1: 2 tp / (2 tp + fp + fn)\n",
    "f1 = f1_score(ytest,ypred_class,average='weighted')\n",
    "print('F1 score: %f' % f1)"
   ]
  },
  {
   "cell_type": "code",
   "execution_count": 34,
   "metadata": {},
   "outputs": [],
   "source": [
    "with open(\"labels_list.pickle\",\"wb\") as handle:\n",
    "    pickle.dump(labels_list,handle)"
   ]
  },
  {
   "cell_type": "markdown",
   "metadata": {},
   "source": [
    "# Testing on the labelled training data"
   ]
  },
  {
   "cell_type": "code",
   "execution_count": 35,
   "metadata": {},
   "outputs": [
    {
     "name": "stdout",
     "output_type": "stream",
     "text": [
      "{0: 0, 1: 1, 2: -1}\n"
     ]
    }
   ],
   "source": [
    "Y_pred = model.predict(X)\n",
    "Y_pred_class = np.argmax(Y_pred,axis=1)\n",
    "# Y_pred_class[:10]\n",
    "\n",
    "id_labels = dict()\n",
    "for label,idx in labels_id.items():\n",
    "    id_labels[idx] = label\n",
    "print(id_labels)\n",
    "\n",
    "for i in range(len(Y_pred_class)):\n",
    "    data.loc[i,'Prediction'] = int(id_labels[Y_pred_class[i]])\n",
    "\n",
    "# data.to_csv(os.path.join(os.getcwd(),\"csv_files\",\"results.csv\"),index=False)"
   ]
  },
  {
   "cell_type": "code",
   "execution_count": 36,
   "metadata": {},
   "outputs": [],
   "source": [
    "for i in range(data.shape[0]):\n",
    "    data.loc[i,'sentiment_class'] = id_labels[data.loc[i,'sentiment_class']]\n",
    "data['Prediction'] = data['Prediction'].astype(int)\n",
    "\n",
    "data.to_csv(os.path.join(os.getcwd(),\"csv_files\",\"results.csv\"),index=False)"
   ]
  },
  {
   "cell_type": "code",
   "execution_count": 37,
   "metadata": {},
   "outputs": [
    {
     "data": {
      "text/html": [
       "<div>\n",
       "<style scoped>\n",
       "    .dataframe tbody tr th:only-of-type {\n",
       "        vertical-align: middle;\n",
       "    }\n",
       "\n",
       "    .dataframe tbody tr th {\n",
       "        vertical-align: top;\n",
       "    }\n",
       "\n",
       "    .dataframe thead th {\n",
       "        text-align: right;\n",
       "    }\n",
       "</style>\n",
       "<table border=\"1\" class=\"dataframe\">\n",
       "  <thead>\n",
       "    <tr style=\"text-align: right;\">\n",
       "      <th></th>\n",
       "      <th>id</th>\n",
       "      <th>text</th>\n",
       "      <th>sentiment_class</th>\n",
       "      <th>Prediction</th>\n",
       "    </tr>\n",
       "  </thead>\n",
       "  <tbody>\n",
       "    <tr>\n",
       "      <th>0</th>\n",
       "      <td>1.245025e+18</td>\n",
       "      <td>happy mothersday amazing mothers know hard abl...</td>\n",
       "      <td>0</td>\n",
       "      <td>0</td>\n",
       "    </tr>\n",
       "    <tr>\n",
       "      <th>1</th>\n",
       "      <td>1.245759e+18</td>\n",
       "      <td>happy mothers day mum im sorry cant bring moth...</td>\n",
       "      <td>0</td>\n",
       "      <td>0</td>\n",
       "    </tr>\n",
       "    <tr>\n",
       "      <th>2</th>\n",
       "      <td>1.246087e+18</td>\n",
       "      <td>happy mothers day mothers days work today quie...</td>\n",
       "      <td>-1</td>\n",
       "      <td>-1</td>\n",
       "    </tr>\n",
       "    <tr>\n",
       "      <th>3</th>\n",
       "      <td>1.244803e+18</td>\n",
       "      <td>happy mothers day beautiful womanroyalty sooth...</td>\n",
       "      <td>0</td>\n",
       "      <td>0</td>\n",
       "    </tr>\n",
       "    <tr>\n",
       "      <th>4</th>\n",
       "      <td>1.244876e+18</td>\n",
       "      <td>remembering amazing ladies made late grandmoth...</td>\n",
       "      <td>-1</td>\n",
       "      <td>-1</td>\n",
       "    </tr>\n",
       "  </tbody>\n",
       "</table>\n",
       "</div>"
      ],
      "text/plain": [
       "             id                                               text  \\\n",
       "0  1.245025e+18  happy mothersday amazing mothers know hard abl...   \n",
       "1  1.245759e+18  happy mothers day mum im sorry cant bring moth...   \n",
       "2  1.246087e+18  happy mothers day mothers days work today quie...   \n",
       "3  1.244803e+18  happy mothers day beautiful womanroyalty sooth...   \n",
       "4  1.244876e+18  remembering amazing ladies made late grandmoth...   \n",
       "\n",
       "   sentiment_class  Prediction  \n",
       "0                0           0  \n",
       "1                0           0  \n",
       "2               -1          -1  \n",
       "3                0           0  \n",
       "4               -1          -1  "
      ]
     },
     "execution_count": 37,
     "metadata": {},
     "output_type": "execute_result"
    }
   ],
   "source": [
    "data.head()"
   ]
  },
  {
   "cell_type": "code",
   "execution_count": 38,
   "metadata": {},
   "outputs": [
    {
     "name": "stdout",
     "output_type": "stream",
     "text": [
      "Total Size of data is 3235\n",
      "Total correct entries is  3235\n"
     ]
    }
   ],
   "source": [
    "print(\"Total Size of data is\",data.shape[0])\n",
    "count=0\n",
    "for i in range(data.shape[0]):\n",
    "    if data.iloc[i,2]==data.iloc[i,2]:\n",
    "        count+=1\n",
    "print(\"Total correct entries is \",count)"
   ]
  },
  {
   "cell_type": "markdown",
   "metadata": {},
   "source": [
    "# Test model by input text from user"
   ]
  },
  {
   "cell_type": "code",
   "execution_count": 39,
   "metadata": {},
   "outputs": [
    {
     "name": "stdout",
     "output_type": "stream",
     "text": [
      "Enter the queryWhat a great day to show you my project\n",
      "Predicted class--> 0\n"
     ]
    }
   ],
   "source": [
    "input_text = input(\"Enter the query\")\n",
    "encoded_docs= tokenizer.texts_to_sequences([input_text])\n",
    "padded_docs_text = pad_sequences(encoded_docs, maxlen=MAX_SEQUENCE_LENGTH, padding='post')\n",
    "input_pred = model.predict(padded_docs_text)\n",
    "ypred_class = np.argmax(input_pred,axis=1)\n",
    "print(\"Predicted class-->\",id_labels[ypred_class[0]])"
   ]
  },
  {
   "cell_type": "markdown",
   "metadata": {},
   "source": [
    "# Creating the Submission File"
   ]
  },
  {
   "cell_type": "code",
   "execution_count": 40,
   "metadata": {},
   "outputs": [
    {
     "name": "stdout",
     "output_type": "stream",
     "text": [
      "Number of test samples 1387\n",
      "Shape of  data_test (1387, 5)\n"
     ]
    }
   ],
   "source": [
    "data_test = pd.read_csv(os.path.join(DATA_DIR,\"test.csv\"))\n",
    "print(\"Number of test samples\",data_test.shape[0])\n",
    "print(\"Shape of  data_test\",data_test.shape)"
   ]
  },
  {
   "cell_type": "code",
   "execution_count": 41,
   "metadata": {
    "scrolled": true
   },
   "outputs": [
    {
     "data": {
      "text/html": [
       "<div>\n",
       "<style scoped>\n",
       "    .dataframe tbody tr th:only-of-type {\n",
       "        vertical-align: middle;\n",
       "    }\n",
       "\n",
       "    .dataframe tbody tr th {\n",
       "        vertical-align: top;\n",
       "    }\n",
       "\n",
       "    .dataframe thead th {\n",
       "        text-align: right;\n",
       "    }\n",
       "</style>\n",
       "<table border=\"1\" class=\"dataframe\">\n",
       "  <thead>\n",
       "    <tr style=\"text-align: right;\">\n",
       "      <th></th>\n",
       "      <th>id</th>\n",
       "      <th>original_text</th>\n",
       "      <th>lang</th>\n",
       "      <th>retweet_count</th>\n",
       "      <th>original_author</th>\n",
       "    </tr>\n",
       "  </thead>\n",
       "  <tbody>\n",
       "    <tr>\n",
       "      <th>0</th>\n",
       "      <td>1.246628e+18</td>\n",
       "      <td>3. Yeah, I once cooked potatoes when I was 3 y...</td>\n",
       "      <td>en</td>\n",
       "      <td>0</td>\n",
       "      <td>LToddWood</td>\n",
       "    </tr>\n",
       "    <tr>\n",
       "      <th>1</th>\n",
       "      <td>1.245898e+18</td>\n",
       "      <td>Happy Mother's Day to all the mums, step-mums,...</td>\n",
       "      <td>en</td>\n",
       "      <td>0</td>\n",
       "      <td>iiarushii</td>\n",
       "    </tr>\n",
       "    <tr>\n",
       "      <th>2</th>\n",
       "      <td>1.244717e+18</td>\n",
       "      <td>I love the people from the UK, however, when I...</td>\n",
       "      <td>en</td>\n",
       "      <td>0</td>\n",
       "      <td>andreaanderegg</td>\n",
       "    </tr>\n",
       "    <tr>\n",
       "      <th>3</th>\n",
       "      <td>1.245730e+18</td>\n",
       "      <td>Happy 81st Birthday Happy Mother’s Day to my m...</td>\n",
       "      <td>en</td>\n",
       "      <td>1</td>\n",
       "      <td>TheBookTweeters</td>\n",
       "    </tr>\n",
       "    <tr>\n",
       "      <th>4</th>\n",
       "      <td>1.244636e+18</td>\n",
       "      <td>Happy Mothers day to all those wonderful mothe...</td>\n",
       "      <td>en</td>\n",
       "      <td>0</td>\n",
       "      <td>andreaanderegg</td>\n",
       "    </tr>\n",
       "  </tbody>\n",
       "</table>\n",
       "</div>"
      ],
      "text/plain": [
       "             id                                      original_text lang  \\\n",
       "0  1.246628e+18  3. Yeah, I once cooked potatoes when I was 3 y...   en   \n",
       "1  1.245898e+18  Happy Mother's Day to all the mums, step-mums,...   en   \n",
       "2  1.244717e+18  I love the people from the UK, however, when I...   en   \n",
       "3  1.245730e+18  Happy 81st Birthday Happy Mother’s Day to my m...   en   \n",
       "4  1.244636e+18  Happy Mothers day to all those wonderful mothe...   en   \n",
       "\n",
       "  retweet_count  original_author  \n",
       "0             0        LToddWood  \n",
       "1             0        iiarushii  \n",
       "2             0   andreaanderegg  \n",
       "3             1  TheBookTweeters  \n",
       "4             0   andreaanderegg  "
      ]
     },
     "execution_count": 41,
     "metadata": {},
     "output_type": "execute_result"
    }
   ],
   "source": [
    "data_test.head()"
   ]
  },
  {
   "cell_type": "code",
   "execution_count": 42,
   "metadata": {},
   "outputs": [],
   "source": [
    "def predict_class(input_text):\n",
    "    encoded_docs= tokenizer.texts_to_sequences([input_text])\n",
    "    padded_docs_text = pad_sequences(encoded_docs, maxlen=MAX_SEQUENCE_LENGTH, padding='post')\n",
    "    input_pred = model.predict(padded_docs_text)\n",
    "    ypred_class = np.argmax(input_pred,axis=1)\n",
    "    return id_labels[ypred_class[0]]"
   ]
  },
  {
   "cell_type": "code",
   "execution_count": 43,
   "metadata": {},
   "outputs": [
    {
     "data": {
      "text/html": [
       "<div>\n",
       "<style scoped>\n",
       "    .dataframe tbody tr th:only-of-type {\n",
       "        vertical-align: middle;\n",
       "    }\n",
       "\n",
       "    .dataframe tbody tr th {\n",
       "        vertical-align: top;\n",
       "    }\n",
       "\n",
       "    .dataframe thead th {\n",
       "        text-align: right;\n",
       "    }\n",
       "</style>\n",
       "<table border=\"1\" class=\"dataframe\">\n",
       "  <thead>\n",
       "    <tr style=\"text-align: right;\">\n",
       "      <th></th>\n",
       "      <th>id</th>\n",
       "      <th>original_text</th>\n",
       "      <th>lang</th>\n",
       "      <th>retweet_count</th>\n",
       "      <th>original_author</th>\n",
       "    </tr>\n",
       "  </thead>\n",
       "  <tbody>\n",
       "    <tr>\n",
       "      <th>0</th>\n",
       "      <td>1.246628e+18</td>\n",
       "      <td>3. Yeah, I once cooked potatoes when I was 3 y...</td>\n",
       "      <td>en</td>\n",
       "      <td>0</td>\n",
       "      <td>LToddWood</td>\n",
       "    </tr>\n",
       "    <tr>\n",
       "      <th>1</th>\n",
       "      <td>1.245898e+18</td>\n",
       "      <td>Happy Mother's Day to all the mums, step-mums,...</td>\n",
       "      <td>en</td>\n",
       "      <td>0</td>\n",
       "      <td>iiarushii</td>\n",
       "    </tr>\n",
       "    <tr>\n",
       "      <th>2</th>\n",
       "      <td>1.244717e+18</td>\n",
       "      <td>I love the people from the UK, however, when I...</td>\n",
       "      <td>en</td>\n",
       "      <td>0</td>\n",
       "      <td>andreaanderegg</td>\n",
       "    </tr>\n",
       "    <tr>\n",
       "      <th>3</th>\n",
       "      <td>1.245730e+18</td>\n",
       "      <td>Happy 81st Birthday Happy Mother’s Day to my m...</td>\n",
       "      <td>en</td>\n",
       "      <td>1</td>\n",
       "      <td>TheBookTweeters</td>\n",
       "    </tr>\n",
       "    <tr>\n",
       "      <th>4</th>\n",
       "      <td>1.244636e+18</td>\n",
       "      <td>Happy Mothers day to all those wonderful mothe...</td>\n",
       "      <td>en</td>\n",
       "      <td>0</td>\n",
       "      <td>andreaanderegg</td>\n",
       "    </tr>\n",
       "  </tbody>\n",
       "</table>\n",
       "</div>"
      ],
      "text/plain": [
       "             id                                      original_text lang  \\\n",
       "0  1.246628e+18  3. Yeah, I once cooked potatoes when I was 3 y...   en   \n",
       "1  1.245898e+18  Happy Mother's Day to all the mums, step-mums,...   en   \n",
       "2  1.244717e+18  I love the people from the UK, however, when I...   en   \n",
       "3  1.245730e+18  Happy 81st Birthday Happy Mother’s Day to my m...   en   \n",
       "4  1.244636e+18  Happy Mothers day to all those wonderful mothe...   en   \n",
       "\n",
       "  retweet_count  original_author  \n",
       "0             0        LToddWood  \n",
       "1             0        iiarushii  \n",
       "2             0   andreaanderegg  \n",
       "3             1  TheBookTweeters  \n",
       "4             0   andreaanderegg  "
      ]
     },
     "execution_count": 43,
     "metadata": {},
     "output_type": "execute_result"
    }
   ],
   "source": [
    "data_test.head()"
   ]
  },
  {
   "cell_type": "code",
   "execution_count": 44,
   "metadata": {},
   "outputs": [],
   "source": [
    "data_test['original_text'] = data_test['original_text'].apply(lambda x:preprocess_tweet(x))\n",
    "data_test['sentiment_class'] = data_test['original_text'].apply(lambda x:predict_class(x))\n",
    "#removing the not important classes for generating the submission file\n",
    "data_test = data_test.drop(['original_text','lang','retweet_count','original_author'],axis=1)"
   ]
  },
  {
   "cell_type": "code",
   "execution_count": 45,
   "metadata": {},
   "outputs": [
    {
     "data": {
      "text/html": [
       "<div>\n",
       "<style scoped>\n",
       "    .dataframe tbody tr th:only-of-type {\n",
       "        vertical-align: middle;\n",
       "    }\n",
       "\n",
       "    .dataframe tbody tr th {\n",
       "        vertical-align: top;\n",
       "    }\n",
       "\n",
       "    .dataframe thead th {\n",
       "        text-align: right;\n",
       "    }\n",
       "</style>\n",
       "<table border=\"1\" class=\"dataframe\">\n",
       "  <thead>\n",
       "    <tr style=\"text-align: right;\">\n",
       "      <th></th>\n",
       "      <th>id</th>\n",
       "      <th>sentiment_class</th>\n",
       "    </tr>\n",
       "  </thead>\n",
       "  <tbody>\n",
       "    <tr>\n",
       "      <th>0</th>\n",
       "      <td>1.246628e+18</td>\n",
       "      <td>0</td>\n",
       "    </tr>\n",
       "    <tr>\n",
       "      <th>1</th>\n",
       "      <td>1.245898e+18</td>\n",
       "      <td>0</td>\n",
       "    </tr>\n",
       "    <tr>\n",
       "      <th>2</th>\n",
       "      <td>1.244717e+18</td>\n",
       "      <td>1</td>\n",
       "    </tr>\n",
       "    <tr>\n",
       "      <th>3</th>\n",
       "      <td>1.245730e+18</td>\n",
       "      <td>1</td>\n",
       "    </tr>\n",
       "    <tr>\n",
       "      <th>4</th>\n",
       "      <td>1.244636e+18</td>\n",
       "      <td>-1</td>\n",
       "    </tr>\n",
       "  </tbody>\n",
       "</table>\n",
       "</div>"
      ],
      "text/plain": [
       "             id  sentiment_class\n",
       "0  1.246628e+18                0\n",
       "1  1.245898e+18                0\n",
       "2  1.244717e+18                1\n",
       "3  1.245730e+18                1\n",
       "4  1.244636e+18               -1"
      ]
     },
     "execution_count": 45,
     "metadata": {},
     "output_type": "execute_result"
    }
   ],
   "source": [
    "data_test.head()"
   ]
  },
  {
   "cell_type": "code",
   "execution_count": 46,
   "metadata": {},
   "outputs": [],
   "source": [
    "# This resulted in a leaderboard score of 37.16765"
   ]
  },
  {
   "cell_type": "code",
   "execution_count": 47,
   "metadata": {},
   "outputs": [],
   "source": [
    "data_test.to_csv(\"submission.csv\",index=False)"
   ]
  },
  {
   "cell_type": "markdown",
   "metadata": {},
   "source": [
    "![](images/leaderboard_glove.png)"
   ]
  }
 ],
 "metadata": {
  "kernelspec": {
   "display_name": "Python 3",
   "language": "python",
   "name": "python3"
  },
  "language_info": {
   "codemirror_mode": {
    "name": "ipython",
    "version": 3
   },
   "file_extension": ".py",
   "mimetype": "text/x-python",
   "name": "python",
   "nbconvert_exporter": "python",
   "pygments_lexer": "ipython3",
   "version": "3.7.7"
  }
 },
 "nbformat": 4,
 "nbformat_minor": 4
}
